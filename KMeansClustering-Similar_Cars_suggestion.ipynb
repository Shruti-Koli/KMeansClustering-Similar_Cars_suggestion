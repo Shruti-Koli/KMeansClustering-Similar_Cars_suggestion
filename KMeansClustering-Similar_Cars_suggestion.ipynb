{
 "cells": [
  {
   "cell_type": "markdown",
   "metadata": {},
   "source": [
    "# KMeans Clustering"
   ]
  },
  {
   "cell_type": "raw",
   "metadata": {},
   "source": [
    "Grouping similar cars"
   ]
  },
  {
   "cell_type": "markdown",
   "metadata": {},
   "source": [
    "# Reading Dataset"
   ]
  },
  {
   "cell_type": "code",
   "execution_count": 1,
   "metadata": {},
   "outputs": [],
   "source": [
    "from warnings import filterwarnings\n",
    "filterwarnings(\"ignore\")\n",
    "import pandas as pd\n",
    "A = pd.read_csv(\"C:/Users/Shruti/Downloads/Cars93.csv\")"
   ]
  },
  {
   "cell_type": "markdown",
   "metadata": {},
   "source": [
    "# Preprocessing"
   ]
  },
  {
   "cell_type": "code",
   "execution_count": 2,
   "metadata": {},
   "outputs": [],
   "source": [
    "from sklearn.preprocessing import MinMaxScaler\n",
    "mm = MinMaxScaler()\n",
    "Q = pd.DataFrame(mm.fit_transform(A[[\"Price\",\"MPG.city\"]]),columns=[\"Price\",\"MPG.city\"])"
   ]
  },
  {
   "cell_type": "markdown",
   "metadata": {},
   "source": [
    "# Selecting the best K value - Elbow Curve(X(K),Y(WCSS|Inertia))"
   ]
  },
  {
   "cell_type": "code",
   "execution_count": 4,
   "metadata": {},
   "outputs": [],
   "source": [
    "from sklearn.cluster import KMeans\n",
    "WCSS = []\n",
    "K = range(2,20,1)\n",
    "for i in K:\n",
    "    km = KMeans(n_clusters=i)\n",
    "    model = km.fit(Q)\n",
    "    WCSS.append(model.inertia_)"
   ]
  },
  {
   "cell_type": "code",
   "execution_count": 5,
   "metadata": {},
   "outputs": [
    {
     "data": {
      "text/plain": [
       "([<matplotlib.axis.XTick at 0x1f207a29040>,\n",
       "  <matplotlib.axis.XTick at 0x1f207a22fd0>,\n",
       "  <matplotlib.axis.XTick at 0x1f207a10c70>,\n",
       "  <matplotlib.axis.XTick at 0x1f207a7b0d0>,\n",
       "  <matplotlib.axis.XTick at 0x1f207a7b5e0>,\n",
       "  <matplotlib.axis.XTick at 0x1f207a7baf0>,\n",
       "  <matplotlib.axis.XTick at 0x1f207a83040>,\n",
       "  <matplotlib.axis.XTick at 0x1f207a83550>,\n",
       "  <matplotlib.axis.XTick at 0x1f207a83a60>,\n",
       "  <matplotlib.axis.XTick at 0x1f207a83f70>,\n",
       "  <matplotlib.axis.XTick at 0x1f207a83190>,\n",
       "  <matplotlib.axis.XTick at 0x1f207a7b220>,\n",
       "  <matplotlib.axis.XTick at 0x1f207a87310>,\n",
       "  <matplotlib.axis.XTick at 0x1f207a87820>,\n",
       "  <matplotlib.axis.XTick at 0x1f207a87d30>,\n",
       "  <matplotlib.axis.XTick at 0x1f207a8d280>,\n",
       "  <matplotlib.axis.XTick at 0x1f207a8d790>,\n",
       "  <matplotlib.axis.XTick at 0x1f207a8dca0>],\n",
       " <a list of 18 Text major ticklabel objects>)"
      ]
     },
     "execution_count": 5,
     "metadata": {},
     "output_type": "execute_result"
    },
    {
     "data": {
      "image/png": "[encoded data removed]",
      "text/plain": [
       "<Figure size 432x288 with 1 Axes>"
      ]
     },
     "metadata": {
      "needs_background": "light"
     },
     "output_type": "display_data"
    }
   ],
   "source": [
    "import matplotlib.pyplot as plt\n",
    "plt.scatter(K,WCSS,c=\"red\")\n",
    "plt.plot(K,WCSS,c=\"green\")\n",
    "plt.xticks(range(2,20,1))"
   ]
  },
  {
   "cell_type": "markdown",
   "metadata": {},
   "source": [
    "# Clustering"
   ]
  },
  {
   "cell_type": "code",
   "execution_count": 6,
   "metadata": {},
   "outputs": [
    {
     "data": {
      "text/plain": [
       "array([4, 2, 0, 2, 0, 4, 0, 0, 0, 2, 2, 4, 4, 0, 4, 0, 0, 0, 2, 0, 4, 0,\n",
       "       1, 4, 4, 0, 4, 0, 1, 0, 1, 4, 4, 4, 4, 0, 0, 0, 3, 1, 4, 3, 4, 1,\n",
       "       4, 4, 4, 2, 0, 2, 2, 2, 1, 1, 4, 0, 2, 2, 2, 4, 0, 1, 0, 1, 4, 0,\n",
       "       0, 4, 4, 0, 0, 4, 1, 4, 0, 0, 0, 0, 1, 1, 4, 4, 3, 1, 4, 4, 0, 4,\n",
       "       0, 0, 0, 0, 0])"
      ]
     },
     "execution_count": 6,
     "metadata": {},
     "output_type": "execute_result"
    }
   ],
   "source": [
    "km = KMeans(n_clusters=5)\n",
    "model = km.fit(Q)\n",
    "model.labels_"
   ]
  },
  {
   "cell_type": "code",
   "execution_count": 7,
   "metadata": {},
   "outputs": [],
   "source": [
    "W = A[[\"Price\",\"MPG.city\"]]\n",
    "W['Cluster'] = model.labels_\n",
    "W['Model'] = A.Make"
   ]
  },
  {
   "cell_type": "code",
   "execution_count": 8,
   "metadata": {},
   "outputs": [
    {
     "data": {
      "text/html": [
       "<div>\n",
       "<style scoped>\n",
       "    .dataframe tbody tr th:only-of-type {\n",
       "        vertical-align: middle;\n",
       "    }\n",
       "\n",
       "    .dataframe tbody tr th {\n",
       "        vertical-align: top;\n",
       "    }\n",
       "\n",
       "    .dataframe thead th {\n",
       "        text-align: right;\n",
       "    }\n",
       "</style>\n",
       "<table border=\"1\" class=\"dataframe\">\n",
       "  <thead>\n",
       "    <tr style=\"text-align: right;\">\n",
       "      <th></th>\n",
       "      <th>Price</th>\n",
       "      <th>MPG.city</th>\n",
       "      <th>Cluster</th>\n",
       "      <th>Model</th>\n",
       "    </tr>\n",
       "  </thead>\n",
       "  <tbody>\n",
       "    <tr>\n",
       "      <th>0</th>\n",
       "      <td>15.9</td>\n",
       "      <td>25</td>\n",
       "      <td>4</td>\n",
       "      <td>Acura Integra</td>\n",
       "    </tr>\n",
       "    <tr>\n",
       "      <th>1</th>\n",
       "      <td>33.9</td>\n",
       "      <td>18</td>\n",
       "      <td>2</td>\n",
       "      <td>Acura Legend</td>\n",
       "    </tr>\n",
       "    <tr>\n",
       "      <th>2</th>\n",
       "      <td>29.1</td>\n",
       "      <td>20</td>\n",
       "      <td>0</td>\n",
       "      <td>Audi 90</td>\n",
       "    </tr>\n",
       "    <tr>\n",
       "      <th>3</th>\n",
       "      <td>37.7</td>\n",
       "      <td>19</td>\n",
       "      <td>2</td>\n",
       "      <td>Audi 100</td>\n",
       "    </tr>\n",
       "    <tr>\n",
       "      <th>4</th>\n",
       "      <td>30.0</td>\n",
       "      <td>22</td>\n",
       "      <td>0</td>\n",
       "      <td>BMW 535i</td>\n",
       "    </tr>\n",
       "  </tbody>\n",
       "</table>\n",
       "</div>"
      ],
      "text/plain": [
       "   Price  MPG.city  Cluster          Model\n",
       "0   15.9        25        4  Acura Integra\n",
       "1   33.9        18        2   Acura Legend\n",
       "2   29.1        20        0        Audi 90\n",
       "3   37.7        19        2       Audi 100\n",
       "4   30.0        22        0       BMW 535i"
      ]
     },
     "execution_count": 8,
     "metadata": {},
     "output_type": "execute_result"
    }
   ],
   "source": [
    "W.head()"
   ]
  },
  {
   "cell_type": "code",
   "execution_count": 9,
   "metadata": {},
   "outputs": [
    {
     "name": "stdout",
     "output_type": "stream",
     "text": [
      "select your car, and we wil give you recommendations for similar cars: Audi 90\n"
     ]
    },
    {
     "data": {
      "text/plain": [
       "['Audi 90',\n",
       " 'BMW 535i',\n",
       " 'Buick LeSabre',\n",
       " 'Buick Roadmaster',\n",
       " 'Buick Riviera',\n",
       " 'Chevrolet Camaro',\n",
       " 'Chevrolet Lumina_APV',\n",
       " 'Chevrolet Astro',\n",
       " 'Chevrolet Caprice',\n",
       " 'Chrylser Concorde',\n",
       " 'Chrysler Imperial',\n",
       " 'Dodge Caravan',\n",
       " 'Dodge Stealth',\n",
       " 'Eagle Vision',\n",
       " 'Ford Aerostar',\n",
       " 'Ford Taurus',\n",
       " 'Ford Crown_Victoria',\n",
       " 'Lexus ES300',\n",
       " 'Mazda MPV',\n",
       " 'Mercury Cougar',\n",
       " 'Mitsubishi Diamante',\n",
       " 'Nissan Quest',\n",
       " 'Nissan Maxima',\n",
       " 'Oldsmobile Silhouette',\n",
       " 'Oldsmobile Eighty-Eight',\n",
       " 'Pontiac Firebird',\n",
       " 'Pontiac Grand_Prix',\n",
       " 'Pontiac Bonneville',\n",
       " 'Saab 900',\n",
       " 'Toyota Previa',\n",
       " 'Volkswagen Eurovan',\n",
       " 'Volkswagen Passat',\n",
       " 'Volkswagen Corrado',\n",
       " 'Volvo 240',\n",
       " 'Volvo 850']"
      ]
     },
     "execution_count": 9,
     "metadata": {},
     "output_type": "execute_result"
    }
   ],
   "source": [
    "car = input(\"select your car, and we wil give you recommendations for similar cars: \")\n",
    "cluster_no = W[W[\"Model\"]==car].Cluster.values[0]\n",
    "list(W[W[\"Cluster\"]==cluster_no].Model)"
   ]
  },
  {
   "cell_type": "code",
   "execution_count": null,
   "metadata": {},
   "outputs": [],
   "source": []
  }
 ],
 "metadata": {
  "kernelspec": {
   "display_name": "Python 3",
   "language": "python",
   "name": "python3"
  },
  "language_info": {
   "codemirror_mode": {
    "name": "ipython",
    "version": 3
   },
   "file_extension": ".py",
   "mimetype": "text/x-python",
   "name": "python",
   "nbconvert_exporter": "python",
   "pygments_lexer": "ipython3",
   "version": "3.8.3"
  }
 },
 "nbformat": 4,
 "nbformat_minor": 4
}
